{
 "cells": [
  {
   "cell_type": "markdown",
   "metadata": {
    "id": "JFXZug066bJX"
   },
   "source": [
    "# Upload files in Google Colab\n",
    "If you are running this Jupyter Notebook on Google Colab, run this cell to upload the data files (train_inputs.csv, train_labels.csv, test_inputs.csv, test_labels.csv) in the Colab virtual machine.  You will be prompted to select files that you would like to upload. \n",
    "\n",
    "If you are running this Jupyter Notebook on your computer, you do not need to run this cell."
   ]
  },
  {
   "cell_type": "code",
   "execution_count": 1,
   "metadata": {
    "id": "dqBJV_Br4XeI"
   },
   "outputs": [],
   "source": [
    "#from google.colab import files\n",
    "#uploaded = files.upload()\n",
    "#%ls"
   ]
  },
  {
   "cell_type": "markdown",
   "metadata": {
    "id": "LZDpxE4jmFwA"
   },
   "source": [
    "# Import libraries \n",
    "Do not use any other Python library."
   ]
  },
  {
   "cell_type": "code",
   "execution_count": 2,
   "metadata": {
    "id": "m_1d0BPfmacB"
   },
   "outputs": [],
   "source": [
    "import numpy as np\n",
    "import matplotlib.pyplot as plt"
   ]
  },
  {
   "cell_type": "markdown",
   "metadata": {
    "id": "NYesJygrmgHM"
   },
   "source": [
    "# Function: load_knn_data\n",
    "\n",
    "This function loads the data for KNN from a local drive into RAM\n",
    "\n",
    "Outputs:\n",
    "\n",
    "*   **train_inputs**: numpy array of N training data points x M features\n",
    "*   **train_labels**: numpy array of N training labels\n",
    "*   **test_inputs**: numpy array of N' test data points x M features\n",
    "*   **test_labels**: numpy array of N' test labels\n",
    "\n",
    "\n",
    "\n",
    "\n",
    "  \n",
    "\n"
   ]
  },
  {
   "cell_type": "code",
   "execution_count": 3,
   "metadata": {
    "id": "7goFIgwnomoo"
   },
   "outputs": [],
   "source": [
    "def load_knn_data():\n",
    "    test_inputs = np.genfromtxt('test_inputs.csv', delimiter=',')\n",
    "    test_labels = np.genfromtxt('test_labels.csv', delimiter=',')\n",
    "    train_inputs = np.genfromtxt('train_inputs.csv', delimiter=',')\n",
    "    train_labels = np.genfromtxt('train_labels.csv', delimiter=',')\n",
    "    return train_inputs, train_labels, test_inputs, test_labels\n"
   ]
  },
  {
   "cell_type": "markdown",
   "metadata": {
    "id": "Y87Mnf21owf0"
   },
   "source": [
    "# Function: predict_knn\n",
    "\n",
    "This function implements the KNN classifier to predict the label of a data point.  Measure distances with the Euclidean norm (L2 norm).  When there is a tie between two (or more) labels, break the tie by choosing any label. \n",
    "\n",
    "Inputs:\n",
    "*   **x**: input data point for which we want to predict the label (numpy array of M features)\n",
    "*   **inputs**: matrix of data points in which neighbours will be found (numpy array of N data points x M features)\n",
    "*   **labels**: vector of labels associated with the data points  (numpy array of N labels)\n",
    "*   **k_neighbours**: # of nearest neighbours that will be used\n",
    "\n",
    "Output:\n",
    "*   **predicted_label**: predicted label (integer)\n",
    "\n",
    "\n"
   ]
  },
  {
   "cell_type": "code",
   "execution_count": 4,
   "metadata": {
    "id": "MNXK7L5wpOEa"
   },
   "outputs": [],
   "source": [
    "######\n",
    "def predict_knn(x, inputs, labels, k_neighbours):\n",
    "   \n",
    "   \n",
    "    dist = np.arange(len(inputs))\n",
    "    flag6 = 0\n",
    "    flag5 = 0\n",
    "    for i in range(len(inputs)):\n",
    "        dist[i] = np.linalg.norm((inputs[i,:] - x),2)\n",
    "    dist = np.array(dist)\n",
    "    x1 = np.argsort(dist)[:int(k_neighbours)]\n",
    "\n",
    "    for i in range(int(k_neighbours)):\n",
    "        if labels[x1[i]]==6:\n",
    "            flag6 = flag6 + 1 \n",
    "        else:\n",
    "            flag5 = flag5 + 1\n",
    "                \n",
    "    \n",
    "    if flag6 > flag5:\n",
    "        predicted_label = 6\n",
    "    elif flag6 < flag5:\n",
    "        predicted_label = 5\n",
    "    elif flag6 == flag5:\n",
    "        predicted_label = np.random.choice([5,6])\n",
    "               \n",
    "    return predicted_label\n",
    "######"
   ]
  },
  {
   "cell_type": "markdown",
   "metadata": {
    "id": "I7bIamtprLxK"
   },
   "source": [
    "# Function: eval_knn\n",
    "\n",
    "Function that evaluates the accuracy of the KNN classifier on a dataset.  The dataset to be evaluated consists of (inputs, labels).  The dataset used to find nearest neighbours consists of (train_inputs, train_labels).\n",
    "\n",
    "Inputs:\n",
    "*   **inputs**: matrix of input data points to be evaluated (numpy array of N data points x M features)\n",
    "*   **labels**: vector of target labels for the inputs (numpy array of N labels)\n",
    "*   **train_inputs**: matrix of input data points in which neighbours will be found (numpy array of N' data points x M features)\n",
    "*   **train_labels**: vector of labels for the training inputs (numpy array of N' labels)\n",
    "*   **k_neighbours**: # of nearest neighbours to be used (integer)\n",
    "\n",
    "Outputs:\n",
    "*   **accuracy**: percentage of correctly labeled data points (float)\n",
    "\n",
    "\n"
   ]
  },
  {
   "cell_type": "code",
   "execution_count": 5,
   "metadata": {
    "id": "MCQe7L8XrjdI"
   },
   "outputs": [],
   "source": [
    "def eval_knn(inputs, labels, train_inputs, train_labels, k_neighbours):\n",
    "    count = 0\n",
    "    for i in range (len(inputs)):\n",
    "        #count = 0\n",
    "        x = inputs[i,:]\n",
    "        y = labels[i]\n",
    "        predicted_label = predict_knn(x, train_inputs, train_labels, k_neighbours)\n",
    "        if predicted_label==y:\n",
    "            count+=1;\n",
    "        \n",
    "\n",
    "  # dummy assignment until the function is filled i \n",
    "\n",
    "    accuracy = count/(len(inputs))\n",
    "    return accuracy"
   ]
  },
  {
   "cell_type": "markdown",
   "metadata": {
    "id": "rXNO9nXb1beV"
   },
   "source": [
    "# Function: cross_validation_knn\n",
    "\n",
    "This function performs k-fold cross validation to determine the best number of neighbours for KNN.\n",
    "\n",
    "Inputs:\n",
    "*   **k_folds**: # of folds in cross-validation (integer)\n",
    "*   **hyperparameters**: list of hyperparameters where each hyperparameter is a different # of neighbours (list of integers)\n",
    "*   **inputs**: matrix of data points to be used when searching for neighbours (numpy array of N data points by M features)\n",
    "*   **labels**: vector of labels associated with the inputs (numpy array of N labels)\n",
    "\n",
    "Outputs:\n",
    "*   **best_hyperparam**: best # of neighbours for KNN (integer)\n",
    "*   **best_accuracy**: accuracy achieved with best_hyperparam (float)\n",
    "*   **accuracies**: vector of accuracies for the corresponding hyperparameters (numpy array of floats)\n",
    "\n",
    "\n",
    "\n"
   ]
  },
  {
   "cell_type": "code",
   "execution_count": 6,
   "metadata": {
    "id": "VpHnYR3x1mFZ"
   },
   "outputs": [],
   "source": [
    "def cross_validation_knn(k_folds, hyperparameters, inputs, labels):\n",
    "    p=int(len(inputs)/k_folds)  #number of data points in each validation data set\n",
    "    accuracies = np.zeros(len(hyperparameters))\n",
    "    kk=range(1,k_folds+1)\n",
    "    accuracyK = np.zeros(len(kk))\n",
    "    for k in hyperparameters:\n",
    "        for i in kk:\n",
    "            a = (i-1)*p\n",
    "            b = i*p\n",
    "            valid = inputs[a:b]\n",
    "            valid_label = labels[a:b]\n",
    "            train = np.delete(inputs,slice(a,b),0)\n",
    "            label = np.delete(labels,slice(a,b))\n",
    "                          \n",
    "            accuracyK[i-1] = eval_knn(valid, valid_label, train, label, k)\n",
    "        accuracies[k-1] = sum(accuracyK)/k_folds\n",
    "    #print(accuracies[9])                      \n",
    "    best_hyperparam = np.argsort(accuracies)[::-1][:1]+1                      \n",
    "    best_accuracy = accuracies[best_hyperparam-1]\n",
    "  \n",
    "    return best_hyperparam, best_accuracy, accuracies"
   ]
  },
  {
   "cell_type": "markdown",
   "metadata": {
    "id": "qb31YTWg4rSm"
   },
   "source": [
    "# Function: plot_knn_accuracies\n",
    "\n",
    "Function that plots the KNN accuracies for different # of neighbours (hyperparameters) based on cross validation\n",
    "\n",
    "Inputs:\n",
    "*   **accuracies**: vector of accuracies for the corresponding hyperparameters (numpy array of floats)\n",
    "*   **hyperparams**: list of hyperparameters where each hyperparameter is a different # of neighbours (list of integers)\n"
   ]
  },
  {
   "cell_type": "code",
   "execution_count": 7,
   "metadata": {
    "id": "MpbE_-Yt5HiI"
   },
   "outputs": [],
   "source": [
    "def plot_knn_accuracies(accuracies,hyperparams):\n",
    "    plt.plot(hyperparams,accuracies)\n",
    "    plt.ylabel('accuracy')\n",
    "    plt.xlabel('k neighbours')\n",
    "    plt.show()  "
   ]
  },
  {
   "cell_type": "markdown",
   "metadata": {
    "id": "iF2YiZnMaws8"
   },
   "source": [
    "# Main KNN code\n",
    "\n",
    "Load data.\n",
    "Use k-fold cross validation to find the best # of neighbours for KNN.\n",
    "Plot accuracies for different # of neighbours.\n",
    "Test KNN with the best # of neighbours."
   ]
  },
  {
   "cell_type": "code",
   "execution_count": 8,
   "metadata": {
    "id": "Qw6MLmQ8bpA1"
   },
   "outputs": [
    {
     "data": {
      "image/png": "[encoded data removed]",
      "text/plain": [
       "<Figure size 640x480 with 1 Axes>"
      ]
     },
     "metadata": {},
     "output_type": "display_data"
    },
    {
     "name": "stdout",
     "output_type": "stream",
     "text": [
      "best # of neighbours k: [7]\n",
      "best cross validation accuracy: [0.788]\n",
      "test accuracy: 0.7636363636363637\n"
     ]
    }
   ],
   "source": [
    "# load data\n",
    "train_inputs, train_labels, test_inputs, test_labels = load_knn_data()\n",
    "\n",
    "# number of neighbours to be evaluated by cross validation\n",
    "hyperparams = range(1,31)\n",
    "k_folds = 10\n",
    "best_k_neighbours, best_accuracy, accuracies = cross_validation_knn(k_folds, hyperparams, train_inputs, train_labels)\n",
    "\n",
    "# plot results\n",
    "\n",
    "plot_knn_accuracies(accuracies, hyperparams)\n",
    "print('best # of neighbours k: ' + str(best_k_neighbours))\n",
    "print('best cross validation accuracy: ' + str(best_accuracy))\n",
    "\n",
    "# evaluate with best # of neighbours\n",
    "accuracy = eval_knn(test_inputs, test_labels, train_inputs, train_labels, best_k_neighbours)\n",
    "print('test accuracy: '+ str(accuracy))"
   ]
  },
  {
   "cell_type": "code",
   "execution_count": null,
   "metadata": {},
   "outputs": [],
   "source": []
  },
  {
   "cell_type": "code",
   "execution_count": null,
   "metadata": {},
   "outputs": [],
   "source": []
  }
 ],
 "metadata": {
  "colab": {
   "provenance": []
  },
  "kernelspec": {
   "display_name": "Python 3 (ipykernel)",
   "language": "python",
   "name": "python3"
  },
  "language_info": {
   "codemirror_mode": {
    "name": "ipython",
    "version": 3
   },
   "file_extension": ".py",
   "mimetype": "text/x-python",
   "name": "python",
   "nbconvert_exporter": "python",
   "pygments_lexer": "ipython3",
   "version": "3.10.9"
  }
 },
 "nbformat": 4,
 "nbformat_minor": 1
}
