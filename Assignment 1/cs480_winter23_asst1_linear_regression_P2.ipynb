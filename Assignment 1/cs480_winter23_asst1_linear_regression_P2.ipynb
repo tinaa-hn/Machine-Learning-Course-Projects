{
 "cells": [
  {
   "cell_type": "markdown",
   "metadata": {
    "id": "JFXZug066bJX"
   },
   "source": [
    "# Upload files in Google Colab\n",
    "If you are running this Jupyter Notebook on Google Colab, run this cell to upload the data files (train_inputs.csv, train_targets.csv, test_inputs.csv, test_targets.csv) in the colab virtual machine.  You will be prompted to select files that you would like to upload. \n",
    "\n",
    "If you are running this Jupyter Notebook on your computer, you do not need to run this cell."
   ]
  },
  {
   "cell_type": "code",
   "execution_count": 1,
   "metadata": {
    "id": "dqBJV_Br4XeI"
   },
   "outputs": [],
   "source": [
    "#from google.colab import files\n",
    "#uploaded = files.upload()\n",
    "#%ls"
   ]
  },
  {
   "cell_type": "markdown",
   "metadata": {
    "id": "LZDpxE4jmFwA"
   },
   "source": [
    "# Import libraries \n",
    "Do not use any other Python library."
   ]
  },
  {
   "cell_type": "code",
   "execution_count": 2,
   "metadata": {
    "id": "m_1d0BPfmacB"
   },
   "outputs": [],
   "source": [
    "import numpy as np\n",
    "import matplotlib.pyplot as plt"
   ]
  },
  {
   "cell_type": "markdown",
   "metadata": {
    "id": "6keYhcgi7nbf"
   },
   "source": [
    "# Function: load_linear_regression_data\n",
    "\n",
    "This function loads the data for Linear Regression from a local drive into RAM\n",
    "\n",
    "Outputs:\n",
    "\n",
    "*   **train_inputs**: numpy array of N training data points x M features\n",
    "*   **train_targets**: numpy array of N training targets\n",
    "*   **test_inputs**: numpy array of N' test data points x M features\n",
    "*   **test_targets**: numpy array of N' test targets"
   ]
  },
  {
   "cell_type": "code",
   "execution_count": 3,
   "metadata": {
    "id": "vcG5U2lR7utt"
   },
   "outputs": [],
   "source": [
    "def load_linear_regression_data():\n",
    "    test_inputs = np.genfromtxt('test_inputs.csv', delimiter=',')\n",
    "    test_targets = np.genfromtxt('test_targets.csv', delimiter=',')\n",
    "    train_inputs = np.genfromtxt('train_inputs.csv', delimiter=',')\n",
    "    train_targets = np.genfromtxt('train_targets.csv', delimiter=',')\n",
    "    return train_inputs, train_targets, test_inputs, test_targets\n"
   ]
  },
  {
   "cell_type": "markdown",
   "metadata": {
    "id": "GwLo3p4f8bTa"
   },
   "source": [
    "# Function: predict_linear_regression\n",
    "\n",
    "This function uses a vector of weights to make predictions for a set of inputs.\n",
    "\n",
    "Inputs:\n",
    "*   **inputs**: matrix of input data points for which we want to make a prediction (numpy array of N data points x M+1 features)\n",
    "*   **weights**: vector of weights (numpy array of M+1 weights)\n",
    "\n",
    "Output:\n",
    "*   **predicted_values**: vector of predicted values (numpy array of N floats)"
   ]
  },
  {
   "cell_type": "code",
   "execution_count": 4,
   "metadata": {
    "id": "iX04_wClRqkV"
   },
   "outputs": [],
   "source": [
    "def predict_linear_regression(inputs, weights):\n",
    "    #ones = np.ones((inputs.shape[0]),1) # Making a colomn of ones (2D array of N*1)\n",
    "    \n",
    "    #x2 = np.hstack ((ones,inputs)) \n",
    "# It's already accounted for ones in the inputs, no need for x2 then\n",
    "  # dummy assignment until the function is filled in\n",
    "  #predicted_values = np.zeros(inputs.shape[0])\n",
    "    predicted_values = inputs @ weights\n",
    "    return predicted_values"
   ]
  },
  {
   "cell_type": "markdown",
   "metadata": {
    "id": "fmfPN7K0RtQ5"
   },
   "source": [
    "# Function eval_linear_regression\n",
    "\n",
    "This function evaluates a set of predictions by computing the mean squared error with respect to the targets\n",
    "\n",
    "Inputs:\n",
    "*   **inputs**: matrix of input data points for which we will evaluate the predictions (numpy array of N data points x M+1 features)\n",
    "*   **weights**: vector of weights (numpy array of M+1 weights)\n",
    "*   **targets**: vector of targets associated with the inputs (numpy array of N targets)\n",
    "\n",
    "Output:\n",
    "*   **mean_squared_error**: mean squared error between the predicted values and the targets (scalar)"
   ]
  },
  {
   "cell_type": "code",
   "execution_count": 5,
   "metadata": {
    "id": "wC14LEsvTxbu"
   },
   "outputs": [],
   "source": [
    "def eval_linear_regression(inputs, weights, targets):\n",
    "\n",
    "    # dummy assignment until the function is filled in\n",
    "    mean_squared_error = 0\n",
    "    \n",
    "    y = predict_linear_regression(inputs, weights)\n",
    "    mean_squared_error = np.sum((targets - y)**2)/len(inputs)\n",
    "    \n",
    "    \n",
    "    return mean_squared_error"
   ]
  },
  {
   "cell_type": "markdown",
   "metadata": {
    "id": "RMAzC5xXT0H-"
   },
   "source": [
    "# Function train_linear_regression\n",
    "\n",
    "This function optimizes a set of weights for linear regression based on a training set\n",
    "\n",
    "Inputs:\n",
    "*   **train_inputs**: matrix of input training points (numpy array of N data points x M+1 features)\n",
    "*   **train_targets**: vector of targets associated with the inputs (numpy array of N targets)\n",
    "*   **lambda_hyperparam**: lambda hyperparameter used to adjust the importance of the regularizer (scalar)\n",
    "\n",
    "Output:\n",
    "*   **weights**: vector of weights that have been optimized (numpy array of M+1 weights)\n",
    "\n"
   ]
  },
  {
   "cell_type": "code",
   "execution_count": 6,
   "metadata": {
    "id": "_DkzoT5QVy41"
   },
   "outputs": [],
   "source": [
    "def train_linear_regression(train_inputs, train_targets, lambda_hyperparam):\n",
    "    \n",
    "    # dummy assignment until the function is filled in\n",
    "    weights = np.zeros(train_inputs.shape[1])\n",
    "    \n",
    "    #mean_squared_error = eval_linear_regression(inputs_inputs, weights, train_targets)  #look how the arguments are different than the original function\n",
    "    #Mse_Reg = mean_squared_error + np.linalg.norm(weights,2) * lambda_hyperparam / 2\n",
    "    \n",
    "    A = train_inputs.T @ train_inputs # A size is (M+1,M+1)\n",
    "    b = train_inputs.T @ train_targets # b size is (M+1,)\n",
    "    #(lambda I + A) w = b , matrix A and I should have the same shape.\n",
    "    lI = np.identity(train_inputs.shape[1]) * lambda_hyperparam #lI is lambda I\n",
    "    new_A = A + lI\n",
    "    \n",
    "    weights = np.linalg.inv(new_A).dot(b) \n",
    "   \n",
    "    return weights"
   ]
  },
  {
   "cell_type": "markdown",
   "metadata": {
    "id": "VYIbLxX7V2DW"
   },
   "source": [
    "# Function cross_validation_linear_regression\n",
    "\n",
    "This function performs k-fold cross validation to determine the best lambda hyperparameter in linear regression\n",
    "\n",
    "Inputs:\n",
    "*   **k_folds**: # of folds in cross-validation (integer)\n",
    "*   **hyperparameters**: list of hyperparameters where each hyperparameter is a different lambda value (list of floats)\n",
    "*   **inputs**: matrix of input points (numpy array of N data points by M+1 features)\n",
    "*   **targets**: vector of targets associated with the inputs (numpy array of N targets)\n",
    "\n",
    "Outputs:\n",
    "*   **best_hyperparam**: best lambda value for linear regression (float)\n",
    "*   **best_mean_squared_error**: mean squared error achieved with best_hyperparam (float)\n",
    "*   **mean_squared_errors**: vector of mean squared errors for the corresponding hyperparameters (numpy array of floats)\n",
    "\n"
   ]
  },
  {
   "cell_type": "code",
   "execution_count": 7,
   "metadata": {
    "id": "_ZzoiZxLZMcV"
   },
   "outputs": [],
   "source": [
    "def cross_validation_linear_regression(k_folds, hyperparameters, inputs, targets):\n",
    "    p=int(len(inputs)/k_folds)  #number of data points in each validation data set\n",
    "    hyperparameters = np.array(hyperparameters)\n",
    "    kk=range(1,k_folds+1)\n",
    "    mean_squared_errorK = np.zeros(len(kk))\n",
    "    mean_squared_errors = np.zeros(len(hyperparameters))\n",
    "    for k in range (len(hyperparameters)):\n",
    "        \n",
    "        \n",
    "        for i in kk:\n",
    "            \n",
    "            a = (i-1)*p\n",
    "            b = i*p\n",
    "            valid = inputs[a:b]\n",
    "            valid_target = targets[a:b]\n",
    "            train = np.delete(inputs,slice(a,b),0)\n",
    "            target = np.delete(targets,slice(a,b))\n",
    "            weights = train_linear_regression(train, target, hyperparameters[k])\n",
    "                          \n",
    "            mean_squared_errorK[i-1] = eval_linear_regression(valid, weights, valid_target)\n",
    "        mean_squared_errors[k] = sum(mean_squared_errorK)/k_folds\n",
    "        \n",
    "    best_hyperparam_index = np.argsort(mean_squared_errors)[:1]\n",
    "    best_hyperparam = hyperparameters [best_hyperparam_index]\n",
    "    best_mean_squared_error = mean_squared_errors[best_hyperparam_index]\n",
    "    \n",
    "    return best_hyperparam, best_mean_squared_error, mean_squared_errors\n",
    "\n"
   ]
  },
  {
   "cell_type": "markdown",
   "metadata": {
    "id": "_ah5AAayZfVU"
   },
   "source": [
    "# Function: plot_linear_regression_mean_squared_errors\n",
    "\n",
    "Function that plots the mean squared errors for different lambda values (hyperparameters) in linear regression based on cross validation\n",
    "\n",
    "Inputs:\n",
    "*   **mean_squared_errors**: vector of mean squared errors for the corresponding hyperparameters (numpy array of floats)\n",
    "*   **hyperparams**: list of hyperparameters where each hyperparameter is a different lambda value (list of floats)"
   ]
  },
  {
   "cell_type": "code",
   "execution_count": 8,
   "metadata": {
    "id": "dh9qZuzMatsZ"
   },
   "outputs": [],
   "source": [
    "def plot_linear_regression_mean_squared_errors(mean_squared_errors,hyperparams):\n",
    "    plt.plot(hyperparams,mean_squared_errors)\n",
    "    plt.ylabel('mean squared error')\n",
    "    plt.xlabel('lambda')\n",
    "    plt.show()"
   ]
  },
  {
   "cell_type": "markdown",
   "metadata": {
    "id": "s21LRP5Qb3m8"
   },
   "source": [
    "# Main Linear Regression code\n",
    "\n",
    "Load data.\n",
    "Use k-fold cross validation to find the best lambda value for linear regression.\n",
    "Plot mean squared errors for different lambda values.\n",
    "Test linear regression with the best lambda value."
   ]
  },
  {
   "cell_type": "code",
   "execution_count": 9,
   "metadata": {
    "id": "njlK2bf7sycQ"
   },
   "outputs": [
    {
     "data": {
      "image/png": "[encoded data removed]",
      "text/plain": [
       "<Figure size 640x480 with 1 Axes>"
      ]
     },
     "metadata": {},
     "output_type": "display_data"
    },
    {
     "name": "stdout",
     "output_type": "stream",
     "text": [
      "best lambda: [0.9]\n",
      "best cross validation mean squared error: [1.34665768]\n",
      "test mean squared error: 1.4449935254464186\n"
     ]
    }
   ],
   "source": [
    "# load data\n",
    "train_inputs, train_targets, test_inputs, test_targets = load_linear_regression_data()\n",
    "\n",
    "# add 1 at the end of each data point\n",
    "train_inputs = np.concatenate((train_inputs,np.ones((train_inputs.shape[0],1))),1)\n",
    "test_inputs = np.concatenate((test_inputs,np.ones((test_inputs.shape[0],1))),1)\n",
    "\n",
    "# lambda values to be evaluated by cross validation\n",
    "hyperparams = [0, 0.1, 0.2, 0.3, 0.4, 0.5, 0.6, 0.7, 0.8, 0.9, 1.0, 1.1, 1.2, 1.3, 1.4, 1.5, 1.6, 1.7, 1.8, 1.9, 2.0, 2.1, 2.2, 2.3, 2.4, 2.5, 2.6, 2.7, 2.8, 2.9, 3.0]\n",
    "k_folds = 10\n",
    "best_lambda, best_mean_squared_error, mean_squared_errors = cross_validation_linear_regression(k_folds,hyperparams,train_inputs,train_targets)\n",
    "\n",
    "# plot results\n",
    "plot_linear_regression_mean_squared_errors(mean_squared_errors,hyperparams)\n",
    "print('best lambda: ' + str (best_lambda))\n",
    "print('best cross validation mean squared error: ' + str(best_mean_squared_error))\n",
    "\n",
    "# train and evaluate with best lambda\n",
    "weights = train_linear_regression(train_inputs,train_targets,best_lambda)\n",
    "mean_squared_error = eval_linear_regression(test_inputs, weights, test_targets)\n",
    "print('test mean squared error: ' + str(mean_squared_error))\n",
    "\n"
   ]
  }
 ],
 "metadata": {
  "colab": {
   "provenance": []
  },
  "kernelspec": {
   "display_name": "Python 3 (ipykernel)",
   "language": "python",
   "name": "python3"
  },
  "language_info": {
   "codemirror_mode": {
    "name": "ipython",
    "version": 3
   },
   "file_extension": ".py",
   "mimetype": "text/x-python",
   "name": "python",
   "nbconvert_exporter": "python",
   "pygments_lexer": "ipython3",
   "version": "3.10.9"
  }
 },
 "nbformat": 4,
 "nbformat_minor": 1
}
